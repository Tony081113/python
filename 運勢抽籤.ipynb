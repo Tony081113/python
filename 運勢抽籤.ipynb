{
  "nbformat": 4,
  "nbformat_minor": 0,
  "metadata": {
    "colab": {
      "provenance": [],
      "authorship_tag": "ABX9TyOjbXw9/g6d8/uo+XcghQFQ",
      "include_colab_link": true
    },
    "kernelspec": {
      "name": "python3",
      "display_name": "Python 3"
    },
    "language_info": {
      "name": "python"
    }
  },
  "cells": [
    {
      "cell_type": "markdown",
      "metadata": {
        "id": "view-in-github",
        "colab_type": "text"
      },
      "source": [
        "<a href=\"https://colab.research.google.com/github/Tony081113/python/blob/main/%E9%81%8B%E5%8B%A2%E6%8A%BD%E7%B1%A4.ipynb\" target=\"_parent\"><img src=\"https://colab.research.google.com/assets/colab-badge.svg\" alt=\"Open In Colab\"/></a>"
      ]
    },
    {
      "cell_type": "code",
      "execution_count": null,
      "metadata": {
        "id": "csA6OOphztlO",
        "colab": {
          "base_uri": "https://localhost:8080/"
        },
        "outputId": "7d64555a-1b32-4bc5-e0f4-f73f73eb32c0"
      },
      "outputs": [
        {
          "output_type": "stream",
          "name": "stdout",
          "text": [
            "您今天的運勢是 大吉\n"
          ]
        }
      ],
      "source": [
        "import random\n",
        "#a=int(input('要買幾張'))\n",
        "b = {1:'大大吉',2:'大吉',3:'普通',4:'不幸運',5:'超不幸運',6:'超超不幸運'}\n",
        "t = {1:'爸爸',2:'媽媽',3:'妹妹'}\n",
        "#d=[]\n",
        "#for i in range(a):\n",
        "c = random.randrange(1,6)\n",
        "d=random.randrange(1,3)\n",
        "if c>3:\n",
        "  print('您今天的運勢是',b[c],'要提防',t[d])\n",
        "#d.append(d)\n",
        "else:\n",
        "  print('您今天的運勢是',b[c])"
      ]
    }
  ]
}