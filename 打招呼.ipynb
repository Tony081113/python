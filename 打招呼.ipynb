{
  "nbformat": 4,
  "nbformat_minor": 0,
  "metadata": {
    "colab": {
      "provenance": [],
      "authorship_tag": "ABX9TyMnOHruQzB6Yffu7iFedpsr",
      "include_colab_link": true
    },
    "kernelspec": {
      "name": "python3",
      "display_name": "Python 3"
    },
    "language_info": {
      "name": "python"
    }
  },
  "cells": [
    {
      "cell_type": "markdown",
      "metadata": {
        "id": "view-in-github",
        "colab_type": "text"
      },
      "source": [
        "<a href=\"https://colab.research.google.com/github/Tony081113/python/blob/main/%E6%89%93%E6%8B%9B%E5%91%BC.ipynb\" target=\"_parent\"><img src=\"https://colab.research.google.com/assets/colab-badge.svg\" alt=\"Open In Colab\"/></a>"
      ]
    },
    {
      "cell_type": "code",
      "execution_count": null,
      "metadata": {
        "id": "_eoruspdueA0"
      },
      "outputs": [],
      "source": [
        "import time as tt\n",
        "import random as rr\n",
        "print('大家安安')\n",
        "tt.sleep(1.5)\n",
        "print('(空氣正在凝結......)')\n",
        "tt.sleep(1.5)\n",
        "print('來玩一些小遊戲好了')\n",
        "tt.sleep(1.5)\n",
        "print('我來說說遊戲規則')\n",
        "tt.sleep(1.5)\n",
        "print('我先說一句話，你在說一句話')\n",
        "tt.sleep(1.5)\n",
        "print('記得，和我說的一樣，不然就要接受懲罰')\n",
        "tt.sleep(1.5)\n",
        "print('預備備')\n",
        "tt.sleep(1)\n",
        "print('開始!')\n",
        "tt.sleep(1.5)\n",
        "print('阿巴阿巴')\n",
        "tt.sleep(1.5)\n",
        "a=str(input('請輸入:'))\n",
        "if a=='阿巴阿巴':\n",
        "    print('過關')\n",
        "    tt.sleep(1.5)\n",
        "    print('作者正在高速更新，未完待續')\n",
        "    tt.sleep(1.5)\n",
        "    print('正在自動退出')\n",
        "else:\n",
        "    print('過關失敗')\n",
        "    tt.sleep(1.5)\n",
        "    print('處罰你汪汪兩聲')\n",
        "    tt.sleep(3)\n",
        "    print('作者正在高速更新，未完待續')\n",
        "    tt.sleep(1.5)\n",
        "    print('正在自動退出')"
      ]
    }
  ]
}